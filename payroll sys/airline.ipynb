{
 "cells": [
  {
   "cell_type": "code",
   "execution_count": 1,
   "metadata": {},
   "outputs": [],
   "source": [
    "import cx_Oracle\n",
    "import pandas as pd\n",
    "connection = cx_Oracle.connect('jack/swayam@localhost/XE')\n",
    "cur = connection.cursor()"
   ]
  },
  {
   "cell_type": "code",
   "execution_count": 15,
   "metadata": {},
   "outputs": [],
   "source": [
    "# cur.execute(\"CREATE TABLE Airline_Master(EmpID INT PRIMARY KEY,ShortName VARCHAR(10),Name VARCHAR(50),Position VARCHAR(50),DepartmentCode VARCHAR(50),PAN VARCHAR(10),AADHAR INT,BANK VARCHAR(4),IFSCCode VARCHAR(20),AccountNumber VARCHAR(20))\")"
   ]
  },
  {
   "cell_type": "code",
   "execution_count": 16,
   "metadata": {},
   "outputs": [],
   "source": [
    "# cur.execute(\"Create table Position(Pos_Code INT Primary Key,Description VARCHAR(50))\")"
   ]
  },
  {
   "cell_type": "code",
   "execution_count": 17,
   "metadata": {},
   "outputs": [],
   "source": [
    "# cur.execute(\"Create table Rate(RateCode INT Primary Key,Description VARCHAR(3),FixedAmount INT,Percentage Decimal)\")\n",
    "# cur.execute(\"alter table Rate rename to Allowance\")"
   ]
  },
  {
   "cell_type": "code",
   "execution_count": 18,
   "metadata": {},
   "outputs": [],
   "source": [
    "# cur.execute(\"Create table Charge(Pos_Code INT Primary key,Charge INT)\")"
   ]
  },
  {
   "cell_type": "code",
   "execution_count": 19,
   "metadata": {},
   "outputs": [],
   "source": [
    "# cur.execute(\"Create TABLE EmpAd(EmpID INT PRIMARY KEY,Month Varchar(10),Attendance INT,Leave INT,total int)\")"
   ]
  },
  {
   "cell_type": "code",
   "execution_count": 20,
   "metadata": {},
   "outputs": [],
   "source": [
    "# cur.execute(\"Create Table VariableAmt(EmpID INT PRIMARY KEY,ED_Code INT,ED_Month Varchar(20),Amount INT)\")"
   ]
  },
  {
   "cell_type": "code",
   "execution_count": 21,
   "metadata": {},
   "outputs": [],
   "source": [
    "# cur.execute(\"Create table Payfile(EmpID INT Primary Key,Month Varchar(20),Salary INT)\")"
   ]
  },
  {
   "cell_type": "code",
   "execution_count": 22,
   "metadata": {},
   "outputs": [],
   "source": [
    "# data = cur.execute(\"Select * from Airline_Master\")\n",
    "# for i in data:\n",
    "#     print(i)"
   ]
  },
  {
   "cell_type": "code",
   "execution_count": 23,
   "metadata": {},
   "outputs": [],
   "source": [
    "# cur.execute(\"Alter table Airline_Master add Pos_Code Int\")"
   ]
  },
  {
   "cell_type": "code",
   "execution_count": 24,
   "metadata": {},
   "outputs": [],
   "source": [
    "# cur.execute(\"Update Airline_Master set Pos_Code = 5 where EmpId = 5\")"
   ]
  },
  {
   "cell_type": "code",
   "execution_count": 7,
   "metadata": {},
   "outputs": [
    {
     "name": "stdout",
     "output_type": "stream",
     "text": [
      "(1, 'SN1', 'John Doe', 'DPT01', 'ABCP1234X', 1234567890, 'SBI', 'IFSC1234', '1234567890', 1)\n",
      "(2, 'SN2', 'Jane Smith', 'DPT02', 'XYZQ5678Y', 9876543210, 'BOI', 'IFSC5678', '0987654321', 4)\n",
      "(3, 'SN3', 'Mike Johnson', 'DPT01', 'LMNO4321Z', 5432167890, 'BOI', 'IFSC4321', '5678901234', 2)\n",
      "(4, 'SN4', 'Sarah Brown', 'DPT03', 'PQRS8765W', 4567890123, 'SBI', 'IFSC8765', '4321098765', 2)\n",
      "(5, 'SN5', 'David Lee', 'DPT02', 'UVWX9876V', 7890123456, 'SBI', 'IFSC9876', '9876543210', 5)\n",
      "(6, 'SN6', 'Jack Sparrow', 'HR001', 'ABCDE1234F', 1234567890, 'SBI', 'IFSC12345678', '1234567130', 6)\n"
     ]
    }
   ],
   "source": [
    "d1 = cur.execute(\"Select * from Airline_Master\")\n",
    "for i in d1:\n",
    "    print(i)"
   ]
  },
  {
   "cell_type": "code",
   "execution_count": 9,
   "metadata": {},
   "outputs": [],
   "source": [
    "# cur.execute(\"Insert into Position values(6,'Database Admin')\")"
   ]
  },
  {
   "cell_type": "code",
   "execution_count": 10,
   "metadata": {},
   "outputs": [
    {
     "name": "stdout",
     "output_type": "stream",
     "text": [
      "(1, 'Pilot')\n",
      "(2, 'Flight Attendant')\n",
      "(3, 'Air Traffic Controller')\n",
      "(4, 'Aircraft Mechanic')\n",
      "(5, 'Customer Service Agent')\n",
      "(6, 'Database Admin')\n"
     ]
    }
   ],
   "source": [
    "d2 = cur.execute(\"Select * from Position\")\n",
    "for i in d2:\n",
    "    print(i)\n"
   ]
  },
  {
   "cell_type": "code",
   "execution_count": 28,
   "metadata": {},
   "outputs": [
    {
     "name": "stdout",
     "output_type": "stream",
     "text": [
      "(1, 'SA', 100, 11)\n",
      "(2, 'PA', 200, 15)\n",
      "(3, 'EA', 80, 8)\n",
      "(4, 'BA', 300, 20)\n",
      "(5, 'TA', 50, 5)\n",
      "(0, 'NA', 0, 0)\n",
      "(6, 'NA', 0, 0)\n"
     ]
    }
   ],
   "source": [
    "cur.execute(\"insert into allowance values(6,'NA',0,0)\")\n",
    "d3 = cur.execute(\"Select * from allowance\")\n",
    "for i in d3:\n",
    "    print(i)"
   ]
  },
  {
   "cell_type": "code",
   "execution_count": 14,
   "metadata": {},
   "outputs": [
    {
     "name": "stdout",
     "output_type": "stream",
     "text": [
      "(1, 'January', 20, 2, 22)\n",
      "(2, 'January', 18, 4, 22)\n",
      "(3, 'January', 22, 1, 23)\n",
      "(4, 'January', 19, 3, 22)\n",
      "(5, 'January', 21, 2, 23)\n",
      "(6, 'January', 26, 2, 28)\n"
     ]
    }
   ],
   "source": [
    "cur.execute(\"Insert into EmpAd values(6,'January',26,2,28)\")\n",
    "d4 = cur.execute(\"Select * from EmpAd\")\n",
    "for i in d4:\n",
    "    print(i)"
   ]
  },
  {
   "cell_type": "code",
   "execution_count": 23,
   "metadata": {},
   "outputs": [
    {
     "name": "stdout",
     "output_type": "stream",
     "text": [
      "(1, 101, 'January', 500)\n",
      "(2, 102, 'January', -200)\n",
      "(3, 103, 'January', 1000)\n",
      "(4, 104, 'January', -500)\n",
      "(5, 105, 'January', 300)\n",
      "(6, 106, 'January', -200)\n"
     ]
    }
   ],
   "source": [
    "cur.execute(\"Insert into VariableAmt values(6,106,'January',-200)\")\n",
    "d5 = cur.execute(\"Select * from VariableAmt\")\n",
    "for i in d5:\n",
    "    print(i)"
   ]
  },
  {
   "cell_type": "code",
   "execution_count": 29,
   "metadata": {},
   "outputs": [],
   "source": [
    "# cur.execute(\"Insert into charge values(5,2300)\")"
   ]
  },
  {
   "cell_type": "code",
   "execution_count": 15,
   "metadata": {},
   "outputs": [
    {
     "name": "stdout",
     "output_type": "stream",
     "text": [
      "(1, 3333)\n",
      "(2, 2333)\n",
      "(3, 3000)\n",
      "(4, 2833)\n",
      "(5, 2300)\n",
      "(6, 3000)\n"
     ]
    }
   ],
   "source": [
    "# cur.execute(\"Insert into charge values(6,3000)\")\n",
    "d6 = cur.execute(\"Select * from charge\")\n",
    "for i in d6:\n",
    "    print(i)"
   ]
  },
  {
   "cell_type": "code",
   "execution_count": 31,
   "metadata": {},
   "outputs": [
    {
     "name": "stdout",
     "output_type": "stream",
     "text": [
      "(1, 'SN1', 'John Doe', 'DPT01', 'ABCP1234X', 1234567890, 'SBI', 'IFSC1234', '1234567890', 1, 1, 'Pilot')\n",
      "(4, 'SN4', 'Sarah Brown', 'DPT03', 'PQRS8765W', 4567890123, 'SBI', 'IFSC8765', '4321098765', 2, 2, 'Flight Attendant')\n",
      "(3, 'SN3', 'Mike Johnson', 'DPT01', 'LMNO4321Z', 5432167890, 'BOI', 'IFSC4321', '5678901234', 2, 2, 'Flight Attendant')\n",
      "(2, 'SN2', 'Jane Smith', 'DPT02', 'XYZQ5678Y', 9876543210, 'BOI', 'IFSC5678', '0987654321', 4, 4, 'Aircraft Mechanic')\n",
      "(5, 'SN5', 'David Lee', 'DPT02', 'UVWX9876V', 7890123456, 'SBI', 'IFSC9876', '9876543210', 5, 5, 'Customer Service Agent')\n"
     ]
    }
   ],
   "source": [
    "d7 = cur.execute(\"Select * from Airline_Master,Position where Airline_Master.Pos_Code = Position.Pos_Code\")\n",
    "for i in d7:\n",
    "    print(i)"
   ]
  },
  {
   "cell_type": "code",
   "execution_count": 12,
   "metadata": {},
   "outputs": [],
   "source": [
    "# cur.execute(\"Alter table EmpAd add Total INT\")\n",
    "# cur.execute(\"update EmpAd set Total = attendance + leave\")\n",
    "# cur.execute(\"drop table payfile\")\n",
    "\n"
   ]
  },
  {
   "cell_type": "code",
   "execution_count": 29,
   "metadata": {},
   "outputs": [],
   "source": [
    "# cur.execute(\"Create table Payfile(EmpID int,month varchar(20),Salary int)\")\n",
    "# cur.execute(\"drop table Payfile\")"
   ]
  },
  {
   "cell_type": "code",
   "execution_count": 30,
   "metadata": {},
   "outputs": [],
   "source": [
    "# cur.execute(\"\"\"\n",
    "#     INSERT INTO Payfile (EmpID, Month, Salary)\n",
    "#     SELECT e.EmpID, e.Month, (e.Total * c.Charge) + (e.Attendance * c.Charge * (a.Percentage / 100)) + a.FixedAmount + v.Amount AS Salary\n",
    "#     FROM EmpAd e\n",
    "#     INNER JOIN Charge c ON e.EmpID = c.Pos_Code\n",
    "#     INNER JOIN Allowance a ON e.EmpID = a.RateCode\n",
    "#     INNER JOIN VariableAmt v ON e.EmpID = v.EmpID\n",
    "# \"\"\")"
   ]
  },
  {
   "cell_type": "code",
   "execution_count": 31,
   "metadata": {},
   "outputs": [
    {
     "name": "stdout",
     "output_type": "stream",
     "text": [
      "(1, 'January', 81259)\n",
      "(2, 'January', 57625)\n",
      "(3, 'January', 75360)\n",
      "(4, 'January', 72891)\n",
      "(5, 'January', 55665)\n",
      "(6, 'January', 83800)\n"
     ]
    }
   ],
   "source": [
    "# fd = cur.execute(\"Select * from payfile\")\n",
    "# for i in fd:\n",
    "#     print(i)\n"
   ]
  },
  {
   "cell_type": "code",
   "execution_count": 3,
   "metadata": {},
   "outputs": [],
   "source": [
    "# cur.execute(\"create table Master(EmpId INT primary key,Name varchar(50),Password INT)\")"
   ]
  },
  {
   "cell_type": "code",
   "execution_count": 35,
   "metadata": {},
   "outputs": [
    {
     "name": "stdout",
     "output_type": "stream",
     "text": [
      "(6, 'Jack Sparrow', 1234)\n"
     ]
    }
   ],
   "source": [
    "# cur.execute(\"Insert into Master values(6,'Jack Sparrow',1234)\")\n",
    "d10 = cur.execute(\"Select * from Master\")\n",
    "for i in d10:\n",
    "    print(i)"
   ]
  }
 ],
 "metadata": {
  "kernelspec": {
   "display_name": "Python 3",
   "language": "python",
   "name": "python3"
  },
  "language_info": {
   "codemirror_mode": {
    "name": "ipython",
    "version": 3
   },
   "file_extension": ".py",
   "mimetype": "text/x-python",
   "name": "python",
   "nbconvert_exporter": "python",
   "pygments_lexer": "ipython3",
   "version": "3.10.1"
  },
  "orig_nbformat": 4
 },
 "nbformat": 4,
 "nbformat_minor": 2
}
