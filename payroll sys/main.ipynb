{
 "cells": [
  {
   "cell_type": "code",
   "execution_count": 1,
   "metadata": {},
   "outputs": [],
   "source": [
    "import cx_Oracle\n",
    "import pandas as pd\n",
    "connection = cx_Oracle.connect('Ninja/swayam@localhost/XE')\n",
    "cur = connection.cursor()"
   ]
  },
  {
   "cell_type": "code",
   "execution_count": 11,
   "metadata": {},
   "outputs": [],
   "source": [
    "# cur.execute(\"CREATE TABLE master (EmpID NUMBER primary key, EmpName VARCHAR(100), DeptCode NUMBER, PosCode NUMBER, PAN VARCHAR(100), Aadhar NUMBER, Bank VARCHAR(5), IFSC varchar(20), ACCoUNT varchar(20))\")"
   ]
  },
  {
   "cell_type": "code",
   "execution_count": 16,
   "metadata": {},
   "outputs": [],
   "source": [
    "# cur.execute(\"CREATE TABLE Dept (DeptCode NUMBER PRIMARY KEY, DeptDescription VARCHAR(50))\")"
   ]
  },
  {
   "cell_type": "code",
   "execution_count": 19,
   "metadata": {},
   "outputs": [],
   "source": [
    "# cur.execute(\"Create table Position(PosCode number primary key,Description varchar(100),rate number)\")"
   ]
  },
  {
   "cell_type": "code",
   "execution_count": 71,
   "metadata": {},
   "outputs": [],
   "source": [
    "# cur.execute(\"Create table Atten(EmpID number ,month varchar(20),present number,leave number)\")\n"
   ]
  },
  {
   "cell_type": "code",
   "execution_count": 80,
   "metadata": {},
   "outputs": [],
   "source": [
    "# cur.execute(\"Create table allowance(EmpID number,Month varchar(20),Type Varchar(50),Percent decimal,FixedAmount Number)\")"
   ]
  },
  {
   "cell_type": "code",
   "execution_count": 81,
   "metadata": {},
   "outputs": [],
   "source": [
    "# cur.execute(\"Create table Var(EmpID number,Month Varchar(20),Description varchar(30),VariableAmt int)\")"
   ]
  },
  {
   "cell_type": "code",
   "execution_count": 82,
   "metadata": {},
   "outputs": [
    {
     "name": "stdout",
     "output_type": "stream",
     "text": [
      "(123, 'John Doe', 101, 201, 'ABC123', 123456789, 'SBI', 'IFSC1', 'ACC001')\n",
      "(456, 'Jane Smith', 102, 202, 'DEF456', 987654321, 'BOI', 'IFSC2', 'ACC002')\n",
      "(789, 'Michael Johnson', 103, 203, 'GHI789', 456789123, 'UBI', 'IFSC3', 'ACC003')\n",
      "(234, 'Sarah Williams', 104, 204, 'JKL234', 321654987, 'ICICI', 'IFSC4', 'ACC004')\n",
      "(567, 'Robert Davis', 105, 205, 'MNO567', 789123456, 'HDFC', 'IFSC5', 'ACC005')\n"
     ]
    }
   ],
   "source": [
    "d1 = cur.execute(\"Select * from master\")\n",
    "for i in d1:\n",
    "    print(i)"
   ]
  },
  {
   "cell_type": "code",
   "execution_count": 83,
   "metadata": {},
   "outputs": [
    {
     "name": "stdout",
     "output_type": "stream",
     "text": [
      "(101, 'Human Resources')\n",
      "(102, 'Finance')\n",
      "(103, 'Marketing')\n",
      "(104, 'Operations')\n",
      "(105, 'Research & Development')\n"
     ]
    }
   ],
   "source": [
    "d2 = cur.execute(\"Select * from Dept\")\n",
    "for i in d2:\n",
    "    print(i)"
   ]
  },
  {
   "cell_type": "code",
   "execution_count": 84,
   "metadata": {},
   "outputs": [
    {
     "name": "stdout",
     "output_type": "stream",
     "text": [
      "(201, 'Manager', 5000)\n",
      "(202, 'Supervisor', 4000)\n",
      "(203, 'Executive', 3500)\n",
      "(204, 'Associate', 3000)\n",
      "(205, 'Intern', 2000)\n"
     ]
    }
   ],
   "source": [
    "d3 = cur.execute(\"Select * from Position\")\n",
    "for i in d3:\n",
    "    print(i)"
   ]
  },
  {
   "cell_type": "code",
   "execution_count": 85,
   "metadata": {},
   "outputs": [
    {
     "name": "stdout",
     "output_type": "stream",
     "text": [
      "(101, 'January', 25, 5)\n",
      "(102, 'January', 28, 2)\n",
      "(103, 'January', 26, 4)\n",
      "(104, 'January', 30, 0)\n",
      "(105, 'January', 24, 6)\n"
     ]
    }
   ],
   "source": [
    "d4 = cur.execute(\"Select * from Atten\")\n",
    "for i in d4:\n",
    "    print(i)"
   ]
  },
  {
   "cell_type": "code",
   "execution_count": 86,
   "metadata": {},
   "outputs": [
    {
     "name": "stdout",
     "output_type": "stream",
     "text": [
      "(101, 'January', 'Housing', 11, None)\n",
      "(102, 'January', 'Transportation', None, 5000)\n",
      "(103, 'January', 'Medical', 8, None)\n",
      "(104, 'January', 'Housing', None, 3000)\n",
      "(105, 'January', 'Transportation', 5, None)\n"
     ]
    }
   ],
   "source": [
    "d5 = cur.execute(\"select * from allowance\")\n",
    "for i in d5:\n",
    "    print(i)"
   ]
  },
  {
   "cell_type": "code",
   "execution_count": 87,
   "metadata": {},
   "outputs": [
    {
     "name": "stdout",
     "output_type": "stream",
     "text": [
      "(101, 'January', 'Bonus', 500)\n",
      "(102, 'January', 'Overtime', 250)\n",
      "(103, 'January', 'Incentive', 300)\n",
      "(104, 'January', 'Allowance', 200)\n",
      "(105, 'January', 'Commission', 400)\n"
     ]
    }
   ],
   "source": [
    "d6 = cur.execute(\"Select * from Var\")\n",
    "for i in d6:\n",
    "    print(i)"
   ]
  },
  {
   "cell_type": "code",
   "execution_count": 96,
   "metadata": {},
   "outputs": [],
   "source": [
    "# cur.execute(\"drop table payslip\")\n",
    "# cur.execute(\"CREATE TABLE payslip (EmpID NUMBER PRIMARY KEY, Month VARCHAR(20), Salary NUMBER)\")\n"
   ]
  },
  {
   "cell_type": "code",
   "execution_count": 107,
   "metadata": {},
   "outputs": [
    {
     "ename": "InterfaceError",
     "evalue": "not a query",
     "output_type": "error",
     "traceback": [
      "\u001b[1;31m---------------------------------------------------------------------------\u001b[0m",
      "\u001b[1;31mInterfaceError\u001b[0m                            Traceback (most recent call last)",
      "\u001b[1;32md:\\payroll sys\\main.ipynb Cell 15\u001b[0m in \u001b[0;36m<cell line: 13>\u001b[1;34m()\u001b[0m\n\u001b[0;32m      <a href='vscode-notebook-cell:/d%3A/payroll%20sys/main.ipynb#X22sZmlsZQ%3D%3D?line=2'>3</a>\u001b[0m \u001b[39m# Calculate and insert salary values into the payslip table\u001b[39;00m\n\u001b[0;32m      <a href='vscode-notebook-cell:/d%3A/payroll%20sys/main.ipynb#X22sZmlsZQ%3D%3D?line=3'>4</a>\u001b[0m cur\u001b[39m.\u001b[39mexecute(\u001b[39m\"\u001b[39m\u001b[39mINSERT INTO payslip (EmpID, Month, Salary) \u001b[39m\u001b[39m\\\u001b[39;00m\n\u001b[0;32m      <a href='vscode-notebook-cell:/d%3A/payroll%20sys/main.ipynb#X22sZmlsZQ%3D%3D?line=4'>5</a>\u001b[0m \u001b[39m             SELECT a.EmpID, \u001b[39m\u001b[39m'\u001b[39m\u001b[39m\"\u001b[39m \u001b[39m+\u001b[39m month_value \u001b[39m+\u001b[39m \u001b[39m\"\u001b[39m\u001b[39m'\u001b[39m\u001b[39m, \u001b[39m\u001b[39m\\\u001b[39;00m\n\u001b[0;32m      <a href='vscode-notebook-cell:/d%3A/payroll%20sys/main.ipynb#X22sZmlsZQ%3D%3D?line=5'>6</a>\u001b[0m \u001b[39m             ((b.present + b.leave) * c.rate) + (((b.present + b.leave) * c.rate) * d.Percent) + COALESCE(e.VariableAmt, 0) + COALESCE(d.FixedAmount, 0) AS Salary \u001b[39m\u001b[39m\\\u001b[39;00m\n\u001b[1;32m   (...)\u001b[0m\n\u001b[0;32m     <a href='vscode-notebook-cell:/d%3A/payroll%20sys/main.ipynb#X22sZmlsZQ%3D%3D?line=9'>10</a>\u001b[0m \u001b[39m             LEFT JOIN allowance d ON a.EmpID = d.EmpID \u001b[39m\u001b[39m\\\u001b[39;00m\n\u001b[0;32m     <a href='vscode-notebook-cell:/d%3A/payroll%20sys/main.ipynb#X22sZmlsZQ%3D%3D?line=10'>11</a>\u001b[0m \u001b[39m             LEFT JOIN Var e ON a.EmpID = e.EmpID\u001b[39m\u001b[39m\"\u001b[39m)\n\u001b[1;32m---> <a href='vscode-notebook-cell:/d%3A/payroll%20sys/main.ipynb#X22sZmlsZQ%3D%3D?line=12'>13</a>\u001b[0m result \u001b[39m=\u001b[39m cur\u001b[39m.\u001b[39;49mfetchall()\n\u001b[0;32m     <a href='vscode-notebook-cell:/d%3A/payroll%20sys/main.ipynb#X22sZmlsZQ%3D%3D?line=13'>14</a>\u001b[0m \u001b[39mfor\u001b[39;00m row \u001b[39min\u001b[39;00m result:\n\u001b[0;32m     <a href='vscode-notebook-cell:/d%3A/payroll%20sys/main.ipynb#X22sZmlsZQ%3D%3D?line=14'>15</a>\u001b[0m     emp_id \u001b[39m=\u001b[39m row[\u001b[39m0\u001b[39m]\n",
      "\u001b[1;31mInterfaceError\u001b[0m: not a query"
     ]
    }
   ],
   "source": []
  },
  {
   "cell_type": "code",
   "execution_count": 106,
   "metadata": {},
   "outputs": [],
   "source": [
    "\n",
    "result = cur.fetchall()\n",
    "for row in result:\n",
    "    emp_id = row[0]\n",
    "    month_name = row[1]\n",
    "    salary = row[2]\n",
    "    print(f\"EmpID: {emp_id}, Month: {month_name}, Salary: {salary}\")"
   ]
  }
 ],
 "metadata": {
  "kernelspec": {
   "display_name": "Python 3",
   "language": "python",
   "name": "python3"
  },
  "language_info": {
   "codemirror_mode": {
    "name": "ipython",
    "version": 3
   },
   "file_extension": ".py",
   "mimetype": "text/x-python",
   "name": "python",
   "nbconvert_exporter": "python",
   "pygments_lexer": "ipython3",
   "version": "3.10.1"
  },
  "orig_nbformat": 4
 },
 "nbformat": 4,
 "nbformat_minor": 2
}
